{
 "cells": [
  {
   "cell_type": "code",
   "execution_count": 1,
   "id": "1f6165ff-9329-447b-a103-d8eed2986f17",
   "metadata": {},
   "outputs": [],
   "source": [
    "%load_ext autoreload\n",
    "%autoreload 2\n",
    "%matplotlib inline"
   ]
  },
  {
   "cell_type": "code",
   "execution_count": 72,
   "id": "1edab97d-31ab-4685-b303-5cb0cb3c7d4f",
   "metadata": {},
   "outputs": [
    {
     "name": "stdout",
     "output_type": "stream",
     "text": [
      "-- ----------------------------------------------------------\n",
      "-- MDB Tools - A library for reading MS Access database files\n",
      "-- Copyright (C) 2000-2011 Brian Bruns and others.\n",
      "-- Files in libmdb are licensed under LGPL and the utilities under\n",
      "-- the GPL, see COPYING.LIB and COPYING files respectively.\n",
      "-- Check out http://mdbtools.sourceforge.net\n",
      "-- ----------------------------------------------------------\n",
      "\n",
      "-- That file uses encoding UTF-8\n",
      "\n",
      "CREATE TABLE `tbl_Schedules`\n",
      " (\n",
      "\t`SID`\t\t\tint not null auto_increment unique, \n",
      "\t`SName`\t\t\tvarchar (100), \n",
      "\t`SEnviro`\t\t\tvarchar (50), \n",
      "\t`SMachineName`\t\t\tvarchar (30), \n",
      "\t`SVersion`\t\t\tvarchar (10), \n",
      "\t`SRunDate`\t\t\tdatetime, \n",
      "\t`SFinal`\t\t\tboolean NOT NULL, \n",
      "\t`ZE_GUID`\t\t\tvarchar (50), \n",
      "\t`ZS_GUID`\t\t\tvarchar (50), \n",
      "\t`SRecCount`\t\t\tint\n",
      ");\n",
      "\n",
      "-- CREATE INDEXES ...\n",
      "ALTER TABLE `tbl_Schedules` ADD PRIMARY KEY (`SID`);\n",
      "\n",
      "CREATE TABLE `tbl_Schedule_Notes`\n",
      " (\n",
      "\t`SID`\t\t\tint, \n",
      "\t`NName`\t\t\tvarchar (100), \n",
      "\t`NValue`\t\t\ttext\n",
      ");\n",
      "\n",
      "-- CREATE INDEXES ...\n",
      "\n",
      "CREATE TABLE `tbl_Data`\n",
      " (\n",
      "\t`SID`\t\t\tint, \n",
      "\t`DTime`\t\t\tfloat, \n",
      "\t`DAuto`\t\t\tint, \n",
      "\t`DEvent`\t\t\tint, \n",
      "\t`DEventText`\t\t\tvarchar (100), \n",
      "\t`DEffectText`\t\t\tvarchar (100), \n",
      "\t`DAltText`\t\t\tvarchar (100), \n",
      "\t`DGroup`\t\t\tint, \n",
      "\t`DArgCount`\t\t\tint, \n",
      "\t`DText1`\t\t\tvarchar (100), \n",
      "\t`DValue1`\t\t\tfloat, \n",
      "\t`DText2`\t\t\tvarchar (100), \n",
      "\t`DValue2`\t\t\tfloat, \n",
      "\t`DText3`\t\t\tvarchar (100), \n",
      "\t`DValue3`\t\t\tfloat, \n",
      "\t`DText4`\t\t\tvarchar (100), \n",
      "\t`DValue4`\t\t\tfloat, \n",
      "\t`DText5`\t\t\tvarchar (100), \n",
      "\t`DValue5`\t\t\tfloat\n",
      ");\n",
      "\n",
      "-- CREATE INDEXES ...\n",
      "\n",
      "CREATE TABLE `tbl_Version`\n",
      " (\n",
      "\t`BuildNum`\t\t\tvarchar (100), \n",
      "\t`CompactDate`\t\t\tdatetime\n",
      ");\n",
      "\n",
      "-- CREATE INDEXES ...\n",
      "\n",
      "CREATE TABLE `tbl_Zip_Schedule`\n",
      " (\n",
      "\t`ZS_GUID`\t\t\tvarchar (50), \n",
      "\t`ZS_Name`\t\t\tvarchar (100), \n",
      "\t`ZS_Version`\t\t\tvarchar (50), \n",
      "\t`ZS_Bytes`\t\t\tblob\n",
      ");\n",
      "\n",
      "-- CREATE INDEXES ...\n",
      "ALTER TABLE `tbl_Zip_Schedule` ADD PRIMARY KEY (`ZS_GUID`);\n",
      "\n",
      "CREATE TABLE `tbl_Zip_Environment`\n",
      " (\n",
      "\t`ZE_GUID`\t\t\tvarchar (50), \n",
      "\t`ZE_Name`\t\t\tvarchar (100), \n",
      "\t`ZE_Bytes`\t\t\tblob\n",
      ");\n",
      "\n",
      "-- CREATE INDEXES ...\n",
      "ALTER TABLE `tbl_Zip_Environment` ADD PRIMARY KEY (`ZE_GUID`);\n",
      "\n",
      "\n",
      "-- CREATE Relationships ...\n",
      "-- relationships are not implemented for mysql\n"
     ]
    },
    {
     "name": "stderr",
     "output_type": "stream",
     "text": [
      "No MSysRelationships\n"
     ]
    },
    {
     "name": "stdout",
     "output_type": "stream",
     "text": [
      "tbl_Schedules <_io.StringIO object at 0x7ff0f78c8a60>\n",
      "tbl_Schedule_Notes <_io.StringIO object at 0x7ff0f0bf9b40>\n",
      "tbl_Data <_io.StringIO object at 0x7ff0f0bfad40>\n",
      "tbl_Version <_io.StringIO object at 0x7ff0f0bfa950>\n",
      "tbl_Zip_Schedule <_io.StringIO object at 0x7ff0f0bf9750>\n",
      "tbl_Zip_Environment <_io.StringIO object at 0x7ff0f0bfad40>\n"
     ]
    }
   ],
   "source": [
    "from analysis import DataBase\n",
    "data = DataBase('equipsy.ABETdb')"
   ]
  },
  {
   "cell_type": "code",
   "execution_count": 73,
   "id": "4965df46-b13b-43b9-8c17-ac20ae511d3c",
   "metadata": {},
   "outputs": [
    {
     "data": {
      "text/plain": [
       "{'BBeam': {'onsets': array([  10.72 ,   28.338,   29.206,   30.96 ,   49.064,   49.591,\n",
       "           49.657,   51.311,   61.333,   91.769,   94.403,  111.968,\n",
       "          151.524,  152.352,  154.443,  176.601,  178.187,  182.408,\n",
       "          205.698,  248.376,  260.071,  275.459,  276.123,  276.682,\n",
       "          277.411,  277.543,  278.369,  278.536,  279.625,  279.847,\n",
       "          284.346,  284.554,  284.714,  285.64 ,  287.961,  299.127,\n",
       "          318.847,  514.346,  515.248,  516.406,  516.77 ,  523.714,\n",
       "          534.102,  556.82 ,  563.263,  579.661,  586.448,  588.364,\n",
       "          591.237,  591.765,  639.269,  651.501,  651.705,  680.939,\n",
       "          692.314,  712.233,  713.617,  717.576,  731.981,  736.217,\n",
       "          766.556,  816.267,  822.853,  823.224,  849.251,  869.563,\n",
       "          889.275,  893.766,  901.598,  905.044,  971.088, 1021.667,\n",
       "         1038.892, 1042.76 , 1042.957, 1043.158, 1044.702, 1044.914,\n",
       "         1045.144, 1045.37 , 1055.163, 1062.768, 1072.722, 1114.852,\n",
       "         1136.428, 1136.861, 1136.96 , 1137.026, 1137.94 , 1138.144,\n",
       "         1138.446, 1138.634, 1138.963, 1139.137, 1140.366, 1142.777,\n",
       "         1148.891, 1151.701, 1151.972, 1152.163, 1152.389, 1152.532,\n",
       "         1153.624, 1153.824, 1153.989, 1155.57 , 1155.841, 1158.219,\n",
       "         1158.351, 1158.503, 1158.615, 1158.714, 1158.847, 1159.145,\n",
       "         1160.597, 1160.835, 1160.9  , 1161.087, 1161.165, 1161.352,\n",
       "         1161.428, 1165.795, 1172.706, 1174.492, 1174.858, 1175.052,\n",
       "         1176.175, 1179.214, 1179.287, 1179.882, 1312.891, 1322.382,\n",
       "         1356.929, 1384.941, 1385.272, 1401.21 , 1401.309, 1425.049,\n",
       "         1425.678, 1430.312, 1434.317, 1434.779, 1452.469, 1456.137,\n",
       "         1461.918, 1465.123, 1467.475, 1469.36 , 1476.767, 1479.812,\n",
       "         1485.002, 1486.261, 1542.236, 1542.568, 1542.691, 1781.818,\n",
       "         1783.204]),\n",
       "  'offsets': array([   6.391,   12.739,   28.943,   30.761,   31.719,   49.26 ,\n",
       "           49.621,   49.657,   51.535,   63.669,   93.623,   94.844,\n",
       "          122.859,  152.055,  154.377,  160.098,  176.856,  182.287,\n",
       "          192.905,  247.219,  260.017,  273.112,  275.659,  276.406,\n",
       "          276.816,  277.5  ,  278.007,  278.502,  279.034,  279.727,\n",
       "          280.951,  284.388,  284.621,  285.547,  287.856,  296.026,\n",
       "          299.164,  511.237,  514.985,  515.442,  516.568,  521.1  ,\n",
       "          524.038,  556.283,  562.607,  579.331,  579.934,  587.01 ,\n",
       "          591.073,  591.696,  639.203,  639.334,  651.606,  679.976,\n",
       "          689.899,  711.666,  712.564,  716.597,  718.414,  734.827,\n",
       "          765.422,  802.351,  822.76 ,  823.087,  823.257,  849.349,\n",
       "          888.846,  889.592,  893.807,  901.671,  950.387, 1019.308,\n",
       "         1038.758, 1039.051, 1042.827, 1043.026, 1043.652, 1044.775,\n",
       "         1045.046, 1045.177, 1054.902, 1062.764, 1063.987, 1114.753,\n",
       "         1133.186, 1136.787, 1136.861, 1137.026, 1137.885, 1138.117,\n",
       "         1138.336, 1138.513, 1138.81 , 1139.041, 1140.037, 1140.432,\n",
       "         1148.83 , 1148.929, 1151.8  , 1152.037, 1152.332, 1152.423,\n",
       "         1152.632, 1153.687, 1153.92 , 1154.585, 1155.675, 1158.208,\n",
       "         1158.318, 1158.449, 1158.583, 1158.682, 1158.84 , 1159.105,\n",
       "         1159.775, 1160.695, 1160.835, 1160.967, 1161.096, 1161.286,\n",
       "         1161.363, 1161.515, 1172.366, 1173.224, 1174.825, 1174.989,\n",
       "         1175.734, 1179.121, 1179.248, 1179.32 , 1312.627, 1313.024,\n",
       "         1356.444, 1359.718, 1385.072, 1392.38 , 1401.243, 1401.333,\n",
       "         1425.216, 1427.805, 1434.282, 1434.712, 1435.473, 1452.667,\n",
       "         1461.42 , 1462.503, 1465.486, 1468.071, 1471.71 , 1476.902,\n",
       "         1484.209, 1485.698, 1542.203, 1542.502, 1542.667, 1781.719,\n",
       "         1783.039])},\n",
       " 'FBeam': {'onsets': array([  14.458,   14.855,   15.255,   15.689,   27.159,   27.555,\n",
       "           27.687,   27.984,   28.644,   28.797,   29.373,   34.93 ,\n",
       "           35.358,   35.625,   35.724,   42.709,   43.633,   43.834,\n",
       "           44.928,   49.031,   57.33 ,   66.26 ,   68.57 ,   71.326,\n",
       "          100.296,  100.8  ,  112.042,  125.832,  133.023,  133.497,\n",
       "          135.411,  141.653,  141.665,  151.491,  166.977,  168.763,\n",
       "          175.177,  199.422,  274.597,  276.353,  277.147,  298.866,\n",
       "          299.132,  302.141,  306.735,  515.773,  517.36 ,  517.786,\n",
       "          518.292,  640.129,  642.348,  642.778,  643.904,  645.093,\n",
       "          646.839,  719.894,  854.383,  854.649,  855.478,  897.171,\n",
       "          898.5  ,  955.377, 1064.912, 1068.554, 1069.285, 1070.342,\n",
       "         1313.253, 1381.633, 1403.623]),\n",
       "  'offsets': array([  14.499,   15.127,   15.444,   26.198,   27.344,   27.654,\n",
       "           27.873,   28.611,   28.731,   28.91 ,   29.405,   35.054,\n",
       "           35.558,   35.658,   35.724,   43.571,   43.826,   43.87 ,\n",
       "           46.772,   49.228,   57.595,   66.332,   69.607,   76.343,\n",
       "          100.595,  111.106,  112.174,  125.864,  133.434,  133.5  ,\n",
       "          140.167,  141.661,  143.772,  151.785,  167.374,  173.195,\n",
       "          176.006,  201.176,  274.763,  277.01 ,  277.665,  299.066,\n",
       "          301.379,  306.532,  309.049,  517.124,  517.727,  517.827,\n",
       "          529.266,  640.46 ,  642.413,  643.83 ,  644.465,  645.191,\n",
       "          648.167,  721.031,  854.483,  855.042,  861.304,  898.072,\n",
       "          901.115,  965.799, 1068.511, 1068.85 , 1069.611, 1071.071,\n",
       "         1318.548, 1383.437, 1416.69 ])},\n",
       " 'Tray': {'onsets': array([ 113.225,  116.016,  117.568,  117.9  ,  118.66 ,  152.578,\n",
       "          152.884,  320.6  ,  325.596,  536.32 ,  536.413,  536.517,\n",
       "          536.617,  536.705,  544.313,  544.945,  653.024,  653.29 ,\n",
       "          681.598,  684.639,  737.101,  748.894,  769.009,  769.207,\n",
       "          778.236,  778.331,  778.465,  780.092,  780.786,  781.744,\n",
       "          781.844,  783.563,  784.749,  786.243,  786.311,  792.564,\n",
       "          792.663,  794.019,  796.137,  796.363,  796.665,  799.903,\n",
       "          910.013,  940.14 ,  941.163,  941.397, 1025.265, 1073.409,\n",
       "         1090.179, 1115.347, 1117.522, 1184.708, 1189.575, 1216.135,\n",
       "         1231.483, 1249.69 , 1258.52 , 1260.019, 1280.619, 1280.89 ,\n",
       "         1324.   , 1324.736, 1337.998, 1348.596, 1386.26 , 1553.847,\n",
       "         1560.783, 1560.85 , 1561.325, 1567.541, 1571.11 , 1571.344,\n",
       "         1571.542, 1571.939, 1572.816, 1580.794, 1586.263, 1586.926,\n",
       "         1587.453, 1606.462, 1610.167, 1610.961, 1611.416, 1612.977,\n",
       "         1614.297, 1614.33 , 1614.661, 1669.963, 1685.042]),\n",
       "  'offsets': array([1.305000e+00, 1.136310e+02, 1.164680e+02, 1.176650e+02,\n",
       "         1.179670e+02, 1.186900e+02, 1.526510e+02, 1.537450e+02,\n",
       "         3.241390e+02, 3.260260e+02, 5.363860e+02, 5.364850e+02,\n",
       "         5.365510e+02, 5.366830e+02, 5.393590e+02, 5.447470e+02,\n",
       "         5.459720e+02, 6.530930e+02, 6.549110e+02, 6.832500e+02,\n",
       "         6.850370e+02, 7.382930e+02, 7.501820e+02, 7.691090e+02,\n",
       "         7.705300e+02, 7.783040e+02, 7.783960e+02, 7.795630e+02,\n",
       "         7.807530e+02, 7.812090e+02, 7.817770e+02, 7.832950e+02,\n",
       "         7.844880e+02, 7.851180e+02, 7.862780e+02, 7.912360e+02,\n",
       "         7.926300e+02, 7.933570e+02, 7.958720e+02, 7.962020e+02,\n",
       "         7.965980e+02, 7.997260e+02, 8.005890e+02, 9.112320e+02,\n",
       "         9.404060e+02, 9.412970e+02, 9.421180e+02, 1.025883e+03,\n",
       "         1.075226e+03, 1.092300e+03, 1.117035e+03, 1.120801e+03,\n",
       "         1.186164e+03, 1.190953e+03, 1.218679e+03, 1.234988e+03,\n",
       "         1.251479e+03, 1.259655e+03, 1.260504e+03, 1.280713e+03,\n",
       "         1.283006e+03, 1.324174e+03, 1.325432e+03, 1.338129e+03,\n",
       "         1.349157e+03, 1.386495e+03, 1.554437e+03, 1.560796e+03,\n",
       "         1.561253e+03, 1.563836e+03, 1.568983e+03, 1.571178e+03,\n",
       "         1.571373e+03, 1.571906e+03, 1.572267e+03, 1.580472e+03,\n",
       "         1.581366e+03, 1.586528e+03, 1.587113e+03, 1.593656e+03,\n",
       "         1.609105e+03, 1.610729e+03, 1.611081e+03, 1.612877e+03,\n",
       "         1.614221e+03, 1.614297e+03, 1.614550e+03, 1.615222e+03,\n",
       "         1.669991e+03, 1.687618e+03])}}"
      ]
     },
     "execution_count": 73,
     "metadata": {},
     "output_type": "execute_result"
    }
   ],
   "source": [
    "data.experiments[0].inputs"
   ]
  },
  {
   "cell_type": "code",
   "execution_count": 52,
   "id": "c2f8d92e-9ca1-4210-93e4-0a70ed6d23fa",
   "metadata": {},
   "outputs": [
    {
     "data": {
      "text/plain": [
       "array(['(SYSTEM)', 'BIRBeam #1', 'Background',\n",
       "       'Bussey Rat Operant Mode 3 x 1 x high (Portrait)',\n",
       "       'End of schedule', 'FIRBeam #1', 'Group Change',\n",
       "       'Reward Beam Break 1', 'Reward beam release 1', 'Reward_2_Screen',\n",
       "       'Reward_First', 'Screen Beam Break 1', 'Screen Touches Left 1',\n",
       "       'Screen beam release 1', 'Screen_2_Reward', 'Screen_Centre',\n",
       "       'Screen_First', 'Screen_beam', 'Screen_left', 'Screen_right',\n",
       "       'Set Blank Images', 'Tray #1', '_Schedule_Timer', '_Trial_Counter',\n",
       "       'reward_beam', 'reward_to_screen', 'screen_to_reward'],\n",
       "      dtype=object)"
      ]
     },
     "execution_count": 52,
     "metadata": {},
     "output_type": "execute_result"
    }
   ],
   "source": [
    "\n",
    "import numpy as np\n",
    "np.unique(data.experiments[0].data['DEffectText'].values)"
   ]
  },
  {
   "cell_type": "code",
   "execution_count": 70,
   "id": "005ed480-ce44-4ef8-b4b6-6232f8e80115",
   "metadata": {},
   "outputs": [
    {
     "data": {
      "text/plain": [
       "{'BIRBeam #1', 'FIRBeam #1', 'Tray #1'}"
      ]
     },
     "execution_count": 70,
     "metadata": {},
     "output_type": "execute_result"
    }
   ],
   "source": [
    "df = data.experiments[0].data\n",
    "set(df[df['DEventText'] == 'Input Transition On Event']['DEffectText'])"
   ]
  },
  {
   "cell_type": "code",
   "execution_count": 56,
   "id": "0fb4ffc9-bbde-4b99-9c72-f3f4d76dc271",
   "metadata": {},
   "outputs": [],
   "source": [
    "#extract_experiments(data):\n",
    "all_sid = data.data['tbl_Schedules']['SID'].values\n",
    "all_dates = data.data['tbl_Schedules']['SRunDate'].values\n",
    "all_dates = [datetime.datetime.strptime(i, '%m/%d/%y %H:%M:%S') for i in all_dates]\n",
    "all_chambers = data.data['tbl_Schedules']['SEnviro'].values\n",
    "\n",
    "sub_data = data.data['tbl_Schedule_Notes']\n",
    "animals = sub_data[sub_data['NName'] == 'Animal ID']\n",
    "all_animals = animals['NValue'].values"
   ]
  },
  {
   "cell_type": "code",
   "execution_count": 63,
   "id": "634a5fd2-1e08-44c9-ab24-96d53354cac1",
   "metadata": {},
   "outputs": [
    {
     "data": {
      "text/plain": [
       "0    Chamber 1 [Env. 17]\n",
       "Name: SEnviro, dtype: object"
      ]
     },
     "execution_count": 63,
     "metadata": {},
     "output_type": "execute_result"
    }
   ],
   "source": [
    "data.data['tbl_Schedules'].loc[data.data['tbl_Schedules']['SID'] == 1, 'SEnviro']"
   ]
  },
  {
   "cell_type": "code",
   "execution_count": 81,
   "id": "bb5f0adf-a7e6-45bb-872b-d56d18d494d5",
   "metadata": {},
   "outputs": [],
   "source": [
    "def get_experiment(data, SID):\n",
    "    return data[data['SID'] == SID]\n",
    "\n",
    "def get_input_data(data, name='BIRBeam #1'):\n",
    "    on_data = data[data['DEventText'] == 'Input Transition On Event']\n",
    "    on_data = on_data[on_data['DEffectText'] == name]\n",
    "\n",
    "    off_data = data[data['DEventText'] == 'Input Transition Off Event']\n",
    "    off_data = off_data[off_data['DEffectText'] == name]\n",
    "\n",
    "    return on_data['DTime'].values"
   ]
  },
  {
   "cell_type": "code",
   "execution_count": 71,
   "id": "fa95f32f-683c-45d9-a348-743a23a83d77",
   "metadata": {},
   "outputs": [],
   "source": [
    "r = data.data['tbl_Schedule_Notes']"
   ]
  },
  {
   "cell_type": "code",
   "execution_count": 72,
   "id": "edf76675-ca8a-4b24-9e06-3c737c26e28b",
   "metadata": {},
   "outputs": [
    {
     "data": {
      "text/html": [
       "<div>\n",
       "<style scoped>\n",
       "    .dataframe tbody tr th:only-of-type {\n",
       "        vertical-align: middle;\n",
       "    }\n",
       "\n",
       "    .dataframe tbody tr th {\n",
       "        vertical-align: top;\n",
       "    }\n",
       "\n",
       "    .dataframe thead th {\n",
       "        text-align: right;\n",
       "    }\n",
       "</style>\n",
       "<table border=\"1\" class=\"dataframe\">\n",
       "  <thead>\n",
       "    <tr style=\"text-align: right;\">\n",
       "      <th></th>\n",
       "      <th>SID</th>\n",
       "      <th>NName</th>\n",
       "      <th>NValue</th>\n",
       "    </tr>\n",
       "  </thead>\n",
       "  <tbody>\n",
       "    <tr>\n",
       "      <th>0</th>\n",
       "      <td>1</td>\n",
       "      <td>Max_Number_Trials</td>\n",
       "      <td>0</td>\n",
       "    </tr>\n",
       "    <tr>\n",
       "      <th>1</th>\n",
       "      <td>1</td>\n",
       "      <td>Max_Schedule_Time</td>\n",
       "      <td>1800</td>\n",
       "    </tr>\n",
       "    <tr>\n",
       "      <th>2</th>\n",
       "      <td>1</td>\n",
       "      <td>Schedule_Description</td>\n",
       "      <td>Initial habituation to the box</td>\n",
       "    </tr>\n",
       "    <tr>\n",
       "      <th>3</th>\n",
       "      <td>1</td>\n",
       "      <td>Animal ID</td>\n",
       "      <td>E1</td>\n",
       "    </tr>\n",
       "    <tr>\n",
       "      <th>4</th>\n",
       "      <td>1</td>\n",
       "      <td>User</td>\n",
       "      <td>Pierre</td>\n",
       "    </tr>\n",
       "    <tr>\n",
       "      <th>...</th>\n",
       "      <td>...</td>\n",
       "      <td>...</td>\n",
       "      <td>...</td>\n",
       "    </tr>\n",
       "    <tr>\n",
       "      <th>139</th>\n",
       "      <td>15</td>\n",
       "      <td>Group ID</td>\n",
       "      <td>NaN</td>\n",
       "    </tr>\n",
       "    <tr>\n",
       "      <th>140</th>\n",
       "      <td>15</td>\n",
       "      <td>Notes</td>\n",
       "      <td>NaN</td>\n",
       "    </tr>\n",
       "    <tr>\n",
       "      <th>141</th>\n",
       "      <td>16</td>\n",
       "      <td>Database</td>\n",
       "      <td>equipsy</td>\n",
       "    </tr>\n",
       "    <tr>\n",
       "      <th>142</th>\n",
       "      <td>16</td>\n",
       "      <td>Group ID</td>\n",
       "      <td>NaN</td>\n",
       "    </tr>\n",
       "    <tr>\n",
       "      <th>143</th>\n",
       "      <td>16</td>\n",
       "      <td>Notes</td>\n",
       "      <td>NaN</td>\n",
       "    </tr>\n",
       "  </tbody>\n",
       "</table>\n",
       "<p>144 rows × 3 columns</p>\n",
       "</div>"
      ],
      "text/plain": [
       "     SID                 NName                          NValue\n",
       "0      1     Max_Number_Trials                               0\n",
       "1      1     Max_Schedule_Time                            1800\n",
       "2      1  Schedule_Description  Initial habituation to the box\n",
       "3      1             Animal ID                              E1\n",
       "4      1                  User                          Pierre\n",
       "..   ...                   ...                             ...\n",
       "139   15              Group ID                             NaN\n",
       "140   15                 Notes                             NaN\n",
       "141   16              Database                         equipsy\n",
       "142   16              Group ID                             NaN\n",
       "143   16                 Notes                             NaN\n",
       "\n",
       "[144 rows x 3 columns]"
      ]
     },
     "execution_count": 72,
     "metadata": {},
     "output_type": "execute_result"
    }
   ],
   "source": [
    "r"
   ]
  },
  {
   "cell_type": "code",
   "execution_count": 92,
   "id": "2a6f6ccf-b668-462b-adb5-d62ce66bfcf0",
   "metadata": {},
   "outputs": [
    {
     "data": {
      "text/plain": [
       "array([9])"
      ]
     },
     "execution_count": 92,
     "metadata": {},
     "output_type": "execute_result"
    }
   ],
   "source": [
    "data.get_results_per_animal()"
   ]
  }
 ],
 "metadata": {
  "kernelspec": {
   "display_name": "Python 3 (ipykernel)",
   "language": "python",
   "name": "python3"
  },
  "language_info": {
   "codemirror_mode": {
    "name": "ipython",
    "version": 3
   },
   "file_extension": ".py",
   "mimetype": "text/x-python",
   "name": "python",
   "nbconvert_exporter": "python",
   "pygments_lexer": "ipython3",
   "version": "3.10.5"
  }
 },
 "nbformat": 4,
 "nbformat_minor": 5
}
