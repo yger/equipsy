{
 "cells": [
  {
   "cell_type": "code",
   "execution_count": 120,
   "id": "1f6165ff-9329-447b-a103-d8eed2986f17",
   "metadata": {},
   "outputs": [
    {
     "name": "stdout",
     "output_type": "stream",
     "text": [
      "The autoreload extension is already loaded. To reload it, use:\n",
      "  %reload_ext autoreload\n"
     ]
    }
   ],
   "source": [
    "%load_ext autoreload\n",
    "%autoreload 2\n",
    "%matplotlib inline"
   ]
  },
  {
   "cell_type": "code",
   "execution_count": 140,
   "id": "c546ccd9-aced-48fe-9a9c-9952931f51c1",
   "metadata": {},
   "outputs": [
    {
     "name": "stdout",
     "output_type": "stream",
     "text": [
      "Connection successfully established ... \n",
      "equipsy.ABETdb\n",
      "File successfully downloaded ...\n"
     ]
    }
   ],
   "source": [
    "from analysis import download_database\n",
    "download_database()"
   ]
  },
  {
   "cell_type": "code",
   "execution_count": 201,
   "id": "1edab97d-31ab-4685-b303-5cb0cb3c7d4f",
   "metadata": {},
   "outputs": [
    {
     "name": "stdout",
     "output_type": "stream",
     "text": [
      "-- ----------------------------------------------------------\n",
      "-- MDB Tools - A library for reading MS Access database files\n",
      "-- Copyright (C) 2000-2011 Brian Bruns and others.\n",
      "-- Files in libmdb are licensed under LGPL and the utilities under\n",
      "-- the GPL, see COPYING.LIB and COPYING files respectively.\n",
      "-- Check out http://mdbtools.sourceforge.net\n",
      "-- ----------------------------------------------------------\n",
      "\n",
      "-- That file uses encoding UTF-8\n",
      "\n",
      "CREATE TABLE `tbl_Schedules`\n",
      " (\n",
      "\t`SID`\t\t\tint not null auto_increment unique, \n",
      "\t`SName`\t\t\tvarchar (100), \n",
      "\t`SEnviro`\t\t\tvarchar (50), \n",
      "\t`SMachineName`\t\t\tvarchar (30), \n",
      "\t`SVersion`\t\t\tvarchar (10), \n",
      "\t`SRunDate`\t\t\tdatetime, \n",
      "\t`SFinal`\t\t\tboolean NOT NULL, \n",
      "\t`ZE_GUID`\t\t\tvarchar (50), \n",
      "\t`ZS_GUID`\t\t\tvarchar (50), \n",
      "\t`SRecCount`\t\t\tint\n",
      ");\n",
      "\n",
      "-- CREATE INDEXES ...\n",
      "ALTER TABLE `tbl_Schedules` ADD PRIMARY KEY (`SID`);\n",
      "\n",
      "CREATE TABLE `tbl_Schedule_Notes`\n",
      " (\n",
      "\t`SID`\t\t\tint, \n",
      "\t`NName`\t\t\tvarchar (100), \n",
      "\t`NValue`\t\t\ttext\n",
      ");\n",
      "\n",
      "-- CREATE INDEXES ...\n",
      "\n",
      "CREATE TABLE `tbl_Data`\n",
      " (\n",
      "\t`SID`\t\t\tint, \n",
      "\t`DTime`\t\t\tfloat, \n",
      "\t`DAuto`\t\t\tint, \n",
      "\t`DEvent`\t\t\tint, \n",
      "\t`DEventText`\t\t\tvarchar (100), \n",
      "\t`DEffectText`\t\t\tvarchar (100), \n",
      "\t`DAltText`\t\t\tvarchar (100), \n",
      "\t`DGroup`\t\t\tint, \n",
      "\t`DArgCount`\t\t\tint, \n",
      "\t`DText1`\t\t\tvarchar (100), \n",
      "\t`DValue1`\t\t\tfloat, \n",
      "\t`DText2`\t\t\tvarchar (100), \n",
      "\t`DValue2`\t\t\tfloat, \n",
      "\t`DText3`\t\t\tvarchar (100), \n",
      "\t`DValue3`\t\t\tfloat, \n",
      "\t`DText4`\t\t\tvarchar (100), \n",
      "\t`DValue4`\t\t\tfloat, \n",
      "\t`DText5`\t\t\tvarchar (100), \n",
      "\t`DValue5`\t\t\tfloat\n",
      ");\n",
      "\n",
      "-- CREATE INDEXES ...\n",
      "\n",
      "CREATE TABLE `tbl_Version`\n",
      " (\n",
      "\t`BuildNum`\t\t\tvarchar (100), \n",
      "\t`CompactDate`\t\t\tdatetime\n",
      ");\n",
      "\n",
      "-- CREATE INDEXES ...\n",
      "\n",
      "CREATE TABLE `tbl_Zip_Schedule`\n",
      " (\n",
      "\t`ZS_GUID`\t\t\tvarchar (50), \n",
      "\t`ZS_Name`\t\t\tvarchar (100), \n",
      "\t`ZS_Version`\t\t\tvarchar (50), \n",
      "\t`ZS_Bytes`\t\t\tblob\n",
      ");\n",
      "\n",
      "-- CREATE INDEXES ...\n",
      "ALTER TABLE `tbl_Zip_Schedule` ADD PRIMARY KEY (`ZS_GUID`);\n",
      "\n",
      "CREATE TABLE `tbl_Zip_Environment`\n",
      " (\n",
      "\t`ZE_GUID`\t\t\tvarchar (50), \n",
      "\t`ZE_Name`\t\t\tvarchar (100), \n",
      "\t`ZE_Bytes`\t\t\tblob\n",
      ");\n",
      "\n",
      "-- CREATE INDEXES ...\n",
      "ALTER TABLE `tbl_Zip_Environment` ADD PRIMARY KEY (`ZE_GUID`);\n",
      "\n",
      "\n",
      "-- CREATE Relationships ...\n",
      "-- relationships are not implemented for mysql\n"
     ]
    },
    {
     "name": "stderr",
     "output_type": "stream",
     "text": [
      "No MSysRelationships\n"
     ]
    },
    {
     "name": "stdout",
     "output_type": "stream",
     "text": [
      "tbl_Schedules <_io.StringIO object at 0x7fd6524f3310>\n",
      "tbl_Schedule_Notes <_io.StringIO object at 0x7fd652393280>\n",
      "tbl_Data <_io.StringIO object at 0x7fd6525694c0>\n",
      "tbl_Version <_io.StringIO object at 0x7fd6523933a0>\n",
      "tbl_Zip_Schedule <_io.StringIO object at 0x7fd652393280>\n",
      "tbl_Zip_Environment <_io.StringIO object at 0x7fd6523933a0>\n",
      "A_Rat PAL Habituation 1 v1\n",
      "A_Rat PAL Habituation 1 v1\n",
      "A_Rat PAL Habituation 1 v1\n",
      "A_Rat PAL Habituation 1 v1\n",
      "A_Rat PAL Habituation 1 v1\n",
      "A_Rat PAL Habituation 1 v1\n",
      "A_Rat PAL Habituation 1 v1\n",
      "A_Rat PAL Habituation 1 v1\n",
      "A_Rat PAL Habituation 1 v1\n",
      "A_Rat PAL Habituation 1 v1\n",
      "A_Rat PAL Habituation 1 v1\n",
      "A_Rat PAL Habituation 1 v1\n",
      "A_Rat PAL Habituation 1 v1\n",
      "A_Rat PAL Habituation 1 v1\n",
      "A_Rat PAL Habituation 1 v1\n",
      "A_Rat PAL Habituation 1 v1\n",
      "A_Rat PAL Habituation 1 v1\n",
      "A_Rat PAL Habituation 1 v1\n",
      "A_Rat PAL Habituation 1 v1\n",
      "A_Rat PAL Habituation 1 v1\n",
      "A_Rat PAL Habituation 1 v1\n",
      "A_Rat PAL Habituation 1 v1\n",
      "A_Rat PAL Habituation 1 v1\n",
      "A_Rat PAL Habituation 1 v1\n",
      "A_Rat PAL Habituation 1 v1\n",
      "A_Rat PAL Habituation 1 v1\n",
      "A_Rat PAL Habituation 1 v1\n",
      "A_Rat PAL Habituation 1 v1\n",
      "A_Rat PAL Habituation 1 v1\n",
      "A_Rat PAL Habituation 1 v1\n",
      "A_Rat PAL Habituation 1 v1\n",
      "A_Rat PAL Habituation 1 v1\n",
      "A_Rat PAL Initial Touch Training v2\n",
      "A_Rat PAL Initial Touch Training v2\n",
      "A_Rat PAL Initial Touch Training v2\n",
      "A_Rat PAL Initial Touch Training v2\n",
      "A_Rat PAL Initial Touch Training v2\n",
      "A_Rat PAL Initial Touch Training v2\n",
      "A_Rat PAL Initial Touch Training v2\n",
      "A_Rat PAL Initial Touch Training v2\n",
      "A_Rat PAL Initial Touch Training v2\n",
      "A_Rat PAL Initial Touch Training v2\n",
      "A_Rat PAL Initial Touch Training v2\n",
      "A_Rat PAL Initial Touch Training v2\n",
      "A_Rat PAL Initial Touch Training v2\n",
      "A_Rat PAL Initial Touch Training v2\n",
      "A_Rat PAL Initial Touch Training v2\n",
      "A_Rat PAL Initial Touch Training v2\n"
     ]
    }
   ],
   "source": [
    "from analysis import DataBase\n",
    "data = DataBase('equipsy.ABETdb')\n",
    "group_experiments = data.get_group_experiments()"
   ]
  },
  {
   "cell_type": "code",
   "execution_count": 207,
   "id": "c2f8d92e-9ca1-4210-93e4-0a70ed6d23fa",
   "metadata": {},
   "outputs": [
    {
     "data": {
      "text/plain": [
       "['Habituation', 'Initial Touch']"
      ]
     },
     "execution_count": 207,
     "metadata": {},
     "output_type": "execute_result"
    }
   ],
   "source": [
    "group_experiments.all_types"
   ]
  },
  {
   "cell_type": "code",
   "execution_count": 208,
   "id": "258669d7-99f9-4704-9357-544ccffd9b31",
   "metadata": {},
   "outputs": [],
   "source": [
    "a = group_experiments.get_experiments_per_type('Habituation')"
   ]
  },
  {
   "cell_type": "code",
   "execution_count": 209,
   "id": "5c83891a-dcac-48b6-a760-adddf08f2762",
   "metadata": {},
   "outputs": [
    {
     "data": {
      "text/plain": [
       "32"
      ]
     },
     "execution_count": 209,
     "metadata": {},
     "output_type": "execute_result"
    }
   ],
   "source": [
    "a.nb_experiments"
   ]
  },
  {
   "cell_type": "code",
   "execution_count": 210,
   "id": "e2e8b21e-9fad-4f8e-b204-49e4e6b3067c",
   "metadata": {},
   "outputs": [
    {
     "data": {
      "text/plain": [
       "<analysis.GroupExperiments at 0x7fd65237de50>"
      ]
     },
     "execution_count": 210,
     "metadata": {},
     "output_type": "execute_result"
    }
   ],
   "source": [
    "group_experiments"
   ]
  },
  {
   "cell_type": "code",
   "execution_count": 184,
   "id": "16f456c0-8a26-4a11-a9c8-fc28019c4a05",
   "metadata": {},
   "outputs": [
    {
     "name": "stdout",
     "output_type": "stream",
     "text": [
      "1\n",
      "1\n",
      "3\n",
      "2\n",
      "1\n",
      "3\n",
      "3\n",
      "4\n",
      "5\n",
      "1\n",
      "1\n",
      "2\n",
      "3\n",
      "3\n",
      "1\n",
      "1\n"
     ]
    }
   ],
   "source": [
    "for e in a.experiments:\n",
    "    df = e.data\n",
    "    du = df[(df['DEventText'] == 'Variable Event') & (df['DEffectText'] == 'Correct_Counter')]\n",
    "    print(len(du))"
   ]
  },
  {
   "cell_type": "code",
   "execution_count": null,
   "id": "a29e39d6-7179-4895-9610-d9fcea713fe7",
   "metadata": {},
   "outputs": [],
   "source": []
  },
  {
   "cell_type": "code",
   "execution_count": null,
   "id": "6029296c-de01-4f18-af52-8cb9cdd2efe6",
   "metadata": {},
   "outputs": [],
   "source": []
  }
 ],
 "metadata": {
  "kernelspec": {
   "display_name": "Python 3 (ipykernel)",
   "language": "python",
   "name": "python3"
  },
  "language_info": {
   "codemirror_mode": {
    "name": "ipython",
    "version": 3
   },
   "file_extension": ".py",
   "mimetype": "text/x-python",
   "name": "python",
   "nbconvert_exporter": "python",
   "pygments_lexer": "ipython3",
   "version": "3.9.16"
  }
 },
 "nbformat": 4,
 "nbformat_minor": 5
}
