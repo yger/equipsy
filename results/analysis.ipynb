{
 "cells": [
  {
   "cell_type": "code",
   "execution_count": 1,
   "id": "1f6165ff-9329-447b-a103-d8eed2986f17",
   "metadata": {},
   "outputs": [],
   "source": [
    "%load_ext autoreload\n",
    "%autoreload 2\n",
    "%matplotlib inline"
   ]
  },
  {
   "cell_type": "code",
   "execution_count": 20,
   "id": "5b6ec89c-7e57-4e9d-b9c9-f0577521a96a",
   "metadata": {},
   "outputs": [],
   "source": [
    "from analysis import download_data"
   ]
  },
  {
   "cell_type": "code",
   "execution_count": 21,
   "id": "ea43c4b7-6d31-4390-b5eb-e929bc04633d",
   "metadata": {},
   "outputs": [
    {
     "name": "stdout",
     "output_type": "stream",
     "text": [
      "Connection successfully established ... \n",
      "File successfully downloaded ...\n"
     ]
    }
   ],
   "source": [
    "download_data()"
   ]
  },
  {
   "cell_type": "code",
   "execution_count": 79,
   "id": "1edab97d-31ab-4685-b303-5cb0cb3c7d4f",
   "metadata": {},
   "outputs": [
    {
     "name": "stdout",
     "output_type": "stream",
     "text": [
      "-- ----------------------------------------------------------\n",
      "-- MDB Tools - A library for reading MS Access database files\n",
      "-- Copyright (C) 2000-2011 Brian Bruns and others.\n",
      "-- Files in libmdb are licensed under LGPL and the utilities under\n",
      "-- the GPL, see COPYING.LIB and COPYING files respectively.\n",
      "-- Check out http://mdbtools.sourceforge.net\n",
      "-- ----------------------------------------------------------\n",
      "\n",
      "-- That file uses encoding UTF-8\n",
      "\n",
      "CREATE TABLE `tbl_Schedules`\n",
      " (\n",
      "\t`SID`\t\t\tint not null auto_increment unique, \n",
      "\t`SName`\t\t\tvarchar (100), \n",
      "\t`SEnviro`\t\t\tvarchar (50), \n",
      "\t`SMachineName`\t\t\tvarchar (30), \n",
      "\t`SVersion`\t\t\tvarchar (10), \n",
      "\t`SRunDate`\t\t\tdatetime, \n",
      "\t`SFinal`\t\t\tboolean NOT NULL, \n",
      "\t`ZE_GUID`\t\t\tvarchar (50), \n",
      "\t`ZS_GUID`\t\t\tvarchar (50), \n",
      "\t`SRecCount`\t\t\tint\n",
      ");\n",
      "\n",
      "-- CREATE INDEXES ...\n",
      "ALTER TABLE `tbl_Schedules` ADD PRIMARY KEY (`SID`);\n",
      "\n",
      "CREATE TABLE `tbl_Schedule_Notes`\n",
      " (\n",
      "\t`SID`\t\t\tint, \n",
      "\t`NName`\t\t\tvarchar (100), \n",
      "\t`NValue`\t\t\ttext\n",
      ");\n",
      "\n",
      "-- CREATE INDEXES ...\n",
      "\n",
      "CREATE TABLE `tbl_Data`\n",
      " (\n",
      "\t`SID`\t\t\tint, \n",
      "\t`DTime`\t\t\tfloat, \n",
      "\t`DAuto`\t\t\tint, \n",
      "\t`DEvent`\t\t\tint, \n",
      "\t`DEventText`\t\t\tvarchar (100), \n",
      "\t`DEffectText`\t\t\tvarchar (100), \n",
      "\t`DAltText`\t\t\tvarchar (100), \n",
      "\t`DGroup`\t\t\tint, \n",
      "\t`DArgCount`\t\t\tint, \n",
      "\t`DText1`\t\t\tvarchar (100), \n",
      "\t`DValue1`\t\t\tfloat, \n",
      "\t`DText2`\t\t\tvarchar (100), \n",
      "\t`DValue2`\t\t\tfloat, \n",
      "\t`DText3`\t\t\tvarchar (100), \n",
      "\t`DValue3`\t\t\tfloat, \n",
      "\t`DText4`\t\t\tvarchar (100), \n",
      "\t`DValue4`\t\t\tfloat, \n",
      "\t`DText5`\t\t\tvarchar (100), \n",
      "\t`DValue5`\t\t\tfloat\n",
      ");\n",
      "\n",
      "-- CREATE INDEXES ...\n",
      "\n",
      "CREATE TABLE `tbl_Version`\n",
      " (\n",
      "\t`BuildNum`\t\t\tvarchar (100), \n",
      "\t`CompactDate`\t\t\tdatetime\n",
      ");\n",
      "\n",
      "-- CREATE INDEXES ...\n",
      "\n",
      "CREATE TABLE `tbl_Zip_Schedule`\n",
      " (\n",
      "\t`ZS_GUID`\t\t\tvarchar (50), \n",
      "\t`ZS_Name`\t\t\tvarchar (100), \n",
      "\t`ZS_Version`\t\t\tvarchar (50), \n",
      "\t`ZS_Bytes`\t\t\tblob\n",
      ");\n",
      "\n",
      "-- CREATE INDEXES ...\n",
      "ALTER TABLE `tbl_Zip_Schedule` ADD PRIMARY KEY (`ZS_GUID`);\n",
      "\n",
      "CREATE TABLE `tbl_Zip_Environment`\n",
      " (\n",
      "\t`ZE_GUID`\t\t\tvarchar (50), \n",
      "\t`ZE_Name`\t\t\tvarchar (100), \n",
      "\t`ZE_Bytes`\t\t\tblob\n",
      ");\n",
      "\n",
      "-- CREATE INDEXES ...\n",
      "ALTER TABLE `tbl_Zip_Environment` ADD PRIMARY KEY (`ZE_GUID`);\n",
      "\n",
      "\n",
      "-- CREATE Relationships ...\n",
      "-- relationships are not implemented for mysql\n"
     ]
    },
    {
     "name": "stderr",
     "output_type": "stream",
     "text": [
      "No MSysRelationships\n"
     ]
    },
    {
     "name": "stdout",
     "output_type": "stream",
     "text": [
      "tbl_Schedules <_io.StringIO object at 0x7f4234fadb80>\n",
      "tbl_Schedule_Notes <_io.StringIO object at 0x7f422fc1e3a0>\n",
      "tbl_Data <_io.StringIO object at 0x7f4232483b80>\n",
      "tbl_Version <_io.StringIO object at 0x7f422fc1e4c0>\n",
      "tbl_Zip_Schedule <_io.StringIO object at 0x7f422fc1e3a0>\n",
      "tbl_Zip_Environment <_io.StringIO object at 0x7f422fc1e4c0>\n"
     ]
    }
   ],
   "source": [
    "data = DataBase('equipsy.ABETdb')"
   ]
  },
  {
   "cell_type": "code",
   "execution_count": 80,
   "id": "c2f8d92e-9ca1-4210-93e4-0a70ed6d23fa",
   "metadata": {},
   "outputs": [
    {
     "data": {
      "text/plain": [
       "array(['E1', 'E2', 'F1', 'F2', 'G1', 'G2', 'H1', 'H2', 'A1', 'A2', 'B1',\n",
       "       'B2', 'C1', 'C2', 'D1', 'D2'], dtype=object)"
      ]
     },
     "execution_count": 80,
     "metadata": {},
     "output_type": "execute_result"
    }
   ],
   "source": [
    "data.all_animals()"
   ]
  },
  {
   "cell_type": "code",
   "execution_count": 86,
   "id": "0fb4ffc9-bbde-4b99-9c72-f3f4d76dc271",
   "metadata": {},
   "outputs": [
    {
     "name": "stdout",
     "output_type": "stream",
     "text": [
      "-- ----------------------------------------------------------\n",
      "-- MDB Tools - A library for reading MS Access database files\n",
      "-- Copyright (C) 2000-2011 Brian Bruns and others.\n",
      "-- Files in libmdb are licensed under LGPL and the utilities under\n",
      "-- the GPL, see COPYING.LIB and COPYING files respectively.\n",
      "-- Check out http://mdbtools.sourceforge.net\n",
      "-- ----------------------------------------------------------\n",
      "\n",
      "-- That file uses encoding UTF-8\n",
      "\n",
      "CREATE TABLE `tbl_Schedules`\n",
      " (\n",
      "\t`SID`\t\t\tint not null auto_increment unique, \n",
      "\t`SName`\t\t\tvarchar (100), \n",
      "\t`SEnviro`\t\t\tvarchar (50), \n",
      "\t`SMachineName`\t\t\tvarchar (30), \n",
      "\t`SVersion`\t\t\tvarchar (10), \n",
      "\t`SRunDate`\t\t\tdatetime, \n",
      "\t`SFinal`\t\t\tboolean NOT NULL, \n",
      "\t`ZE_GUID`\t\t\tvarchar (50), \n",
      "\t`ZS_GUID`\t\t\tvarchar (50), \n",
      "\t`SRecCount`\t\t\tint\n",
      ");\n",
      "\n",
      "-- CREATE INDEXES ...\n",
      "ALTER TABLE `tbl_Schedules` ADD PRIMARY KEY (`SID`);\n",
      "\n",
      "CREATE TABLE `tbl_Schedule_Notes`\n",
      " (\n",
      "\t`SID`\t\t\tint, \n",
      "\t`NName`\t\t\tvarchar (100), \n",
      "\t`NValue`\t\t\ttext\n",
      ");\n",
      "\n",
      "-- CREATE INDEXES ...\n",
      "\n",
      "CREATE TABLE `tbl_Data`\n",
      " (\n",
      "\t`SID`\t\t\tint, \n",
      "\t`DTime`\t\t\tfloat, \n",
      "\t`DAuto`\t\t\tint, \n",
      "\t`DEvent`\t\t\tint, \n",
      "\t`DEventText`\t\t\tvarchar (100), \n",
      "\t`DEffectText`\t\t\tvarchar (100), \n",
      "\t`DAltText`\t\t\tvarchar (100), \n",
      "\t`DGroup`\t\t\tint, \n",
      "\t`DArgCount`\t\t\tint, \n",
      "\t`DText1`\t\t\tvarchar (100), \n",
      "\t`DValue1`\t\t\tfloat, \n",
      "\t`DText2`\t\t\tvarchar (100), \n",
      "\t`DValue2`\t\t\tfloat, \n",
      "\t`DText3`\t\t\tvarchar (100), \n",
      "\t`DValue3`\t\t\tfloat, \n",
      "\t`DText4`\t\t\tvarchar (100), \n",
      "\t`DValue4`\t\t\tfloat, \n",
      "\t`DText5`\t\t\tvarchar (100), \n",
      "\t`DValue5`\t\t\tfloat\n",
      ");\n",
      "\n",
      "-- CREATE INDEXES ...\n",
      "\n",
      "CREATE TABLE `tbl_Version`\n",
      " (\n",
      "\t`BuildNum`\t\t\tvarchar (100), \n",
      "\t`CompactDate`\t\t\tdatetime\n",
      ");\n",
      "\n",
      "-- CREATE INDEXES ...\n",
      "\n",
      "CREATE TABLE `tbl_Zip_Schedule`\n",
      " (\n",
      "\t`ZS_GUID`\t\t\tvarchar (50), \n",
      "\t`ZS_Name`\t\t\tvarchar (100), \n",
      "\t`ZS_Version`\t\t\tvarchar (50), \n",
      "\t`ZS_Bytes`\t\t\tblob\n",
      ");\n",
      "\n",
      "-- CREATE INDEXES ...\n",
      "ALTER TABLE `tbl_Zip_Schedule` ADD PRIMARY KEY (`ZS_GUID`);\n",
      "\n",
      "CREATE TABLE `tbl_Zip_Environment`\n",
      " (\n",
      "\t`ZE_GUID`\t\t\tvarchar (50), \n",
      "\t`ZE_Name`\t\t\tvarchar (100), \n",
      "\t`ZE_Bytes`\t\t\tblob\n",
      ");\n",
      "\n",
      "-- CREATE INDEXES ...\n",
      "ALTER TABLE `tbl_Zip_Environment` ADD PRIMARY KEY (`ZE_GUID`);\n",
      "\n",
      "\n",
      "-- CREATE Relationships ...\n",
      "-- relationships are not implemented for mysql\n"
     ]
    },
    {
     "name": "stderr",
     "output_type": "stream",
     "text": [
      "No MSysRelationships\n"
     ]
    },
    {
     "name": "stdout",
     "output_type": "stream",
     "text": [
      "running table: tbl_Schedules\n",
      "Dumping tbl_Schedules\n",
      "tbl_Schedules <_io.StringIO object at 0x7f4234fad9d0>\n",
      "running table: tbl_Schedule_Notes\n",
      "Dumping tbl_Schedule_Notes\n",
      "tbl_Schedule_Notes <_io.StringIO object at 0x7f422fc1eaf0>\n",
      "running table: tbl_Data\n",
      "Dumping tbl_Data\n",
      "tbl_Data <_io.StringIO object at 0x7f4234a243a0>\n",
      "running table: tbl_Version\n",
      "Dumping tbl_Version\n",
      "tbl_Version <_io.StringIO object at 0x7f422fc2d3a0>\n",
      "running table: tbl_Zip_Schedule\n",
      "Dumping tbl_Zip_Schedule\n",
      "tbl_Zip_Schedule <_io.StringIO object at 0x7f422fc2d430>\n",
      "running table: tbl_Zip_Environment\n",
      "Dumping tbl_Zip_Environment\n",
      "tbl_Zip_Environment <_io.StringIO object at 0x7f422fc2d3a0>\n"
     ]
    }
   ],
   "source": [
    "res = mdb_to_pandas('equipsy.ABETdb')"
   ]
  },
  {
   "cell_type": "code",
   "execution_count": 81,
   "id": "bb5f0adf-a7e6-45bb-872b-d56d18d494d5",
   "metadata": {},
   "outputs": [],
   "source": [
    "def get_experiment(data, SID):\n",
    "    return data[data['SID'] == SID]\n",
    "\n",
    "def get_input_data(data, name='BIRBeam #1'):\n",
    "    on_data = data[data['DEventText'] == 'Input Transition On Event']\n",
    "    on_data = on_data[on_data['DEffectText'] == name]\n",
    "\n",
    "    off_data = data[data['DEventText'] == 'Input Transition Off Event']\n",
    "    off_data = off_data[off_data['DEffectText'] == name]\n",
    "\n",
    "    return on_data['DTime'].values"
   ]
  },
  {
   "cell_type": "code",
   "execution_count": 71,
   "id": "fa95f32f-683c-45d9-a348-743a23a83d77",
   "metadata": {},
   "outputs": [],
   "source": [
    "r = data.data['tbl_Schedule_Notes']"
   ]
  },
  {
   "cell_type": "code",
   "execution_count": 72,
   "id": "edf76675-ca8a-4b24-9e06-3c737c26e28b",
   "metadata": {},
   "outputs": [
    {
     "data": {
      "text/html": [
       "<div>\n",
       "<style scoped>\n",
       "    .dataframe tbody tr th:only-of-type {\n",
       "        vertical-align: middle;\n",
       "    }\n",
       "\n",
       "    .dataframe tbody tr th {\n",
       "        vertical-align: top;\n",
       "    }\n",
       "\n",
       "    .dataframe thead th {\n",
       "        text-align: right;\n",
       "    }\n",
       "</style>\n",
       "<table border=\"1\" class=\"dataframe\">\n",
       "  <thead>\n",
       "    <tr style=\"text-align: right;\">\n",
       "      <th></th>\n",
       "      <th>SID</th>\n",
       "      <th>NName</th>\n",
       "      <th>NValue</th>\n",
       "    </tr>\n",
       "  </thead>\n",
       "  <tbody>\n",
       "    <tr>\n",
       "      <th>0</th>\n",
       "      <td>1</td>\n",
       "      <td>Max_Number_Trials</td>\n",
       "      <td>0</td>\n",
       "    </tr>\n",
       "    <tr>\n",
       "      <th>1</th>\n",
       "      <td>1</td>\n",
       "      <td>Max_Schedule_Time</td>\n",
       "      <td>1800</td>\n",
       "    </tr>\n",
       "    <tr>\n",
       "      <th>2</th>\n",
       "      <td>1</td>\n",
       "      <td>Schedule_Description</td>\n",
       "      <td>Initial habituation to the box</td>\n",
       "    </tr>\n",
       "    <tr>\n",
       "      <th>3</th>\n",
       "      <td>1</td>\n",
       "      <td>Animal ID</td>\n",
       "      <td>E1</td>\n",
       "    </tr>\n",
       "    <tr>\n",
       "      <th>4</th>\n",
       "      <td>1</td>\n",
       "      <td>User</td>\n",
       "      <td>Pierre</td>\n",
       "    </tr>\n",
       "    <tr>\n",
       "      <th>...</th>\n",
       "      <td>...</td>\n",
       "      <td>...</td>\n",
       "      <td>...</td>\n",
       "    </tr>\n",
       "    <tr>\n",
       "      <th>139</th>\n",
       "      <td>15</td>\n",
       "      <td>Group ID</td>\n",
       "      <td>NaN</td>\n",
       "    </tr>\n",
       "    <tr>\n",
       "      <th>140</th>\n",
       "      <td>15</td>\n",
       "      <td>Notes</td>\n",
       "      <td>NaN</td>\n",
       "    </tr>\n",
       "    <tr>\n",
       "      <th>141</th>\n",
       "      <td>16</td>\n",
       "      <td>Database</td>\n",
       "      <td>equipsy</td>\n",
       "    </tr>\n",
       "    <tr>\n",
       "      <th>142</th>\n",
       "      <td>16</td>\n",
       "      <td>Group ID</td>\n",
       "      <td>NaN</td>\n",
       "    </tr>\n",
       "    <tr>\n",
       "      <th>143</th>\n",
       "      <td>16</td>\n",
       "      <td>Notes</td>\n",
       "      <td>NaN</td>\n",
       "    </tr>\n",
       "  </tbody>\n",
       "</table>\n",
       "<p>144 rows × 3 columns</p>\n",
       "</div>"
      ],
      "text/plain": [
       "     SID                 NName                          NValue\n",
       "0      1     Max_Number_Trials                               0\n",
       "1      1     Max_Schedule_Time                            1800\n",
       "2      1  Schedule_Description  Initial habituation to the box\n",
       "3      1             Animal ID                              E1\n",
       "4      1                  User                          Pierre\n",
       "..   ...                   ...                             ...\n",
       "139   15              Group ID                             NaN\n",
       "140   15                 Notes                             NaN\n",
       "141   16              Database                         equipsy\n",
       "142   16              Group ID                             NaN\n",
       "143   16                 Notes                             NaN\n",
       "\n",
       "[144 rows x 3 columns]"
      ]
     },
     "execution_count": 72,
     "metadata": {},
     "output_type": "execute_result"
    }
   ],
   "source": [
    "r"
   ]
  },
  {
   "cell_type": "code",
   "execution_count": 92,
   "id": "2a6f6ccf-b668-462b-adb5-d62ce66bfcf0",
   "metadata": {},
   "outputs": [
    {
     "data": {
      "text/plain": [
       "array([9])"
      ]
     },
     "execution_count": 92,
     "metadata": {},
     "output_type": "execute_result"
    }
   ],
   "source": [
    "data.get_results_per_animal()"
   ]
  }
 ],
 "metadata": {
  "kernelspec": {
   "display_name": "Python 3 (ipykernel)",
   "language": "python",
   "name": "python3"
  },
  "language_info": {
   "codemirror_mode": {
    "name": "ipython",
    "version": 3
   },
   "file_extension": ".py",
   "mimetype": "text/x-python",
   "name": "python",
   "nbconvert_exporter": "python",
   "pygments_lexer": "ipython3",
   "version": "3.10.5"
  }
 },
 "nbformat": 4,
 "nbformat_minor": 5
}
